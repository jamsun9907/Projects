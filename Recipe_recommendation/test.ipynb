{
 "cells": [
  {
   "cell_type": "code",
   "execution_count": 22,
   "metadata": {},
   "outputs": [],
   "source": [
    "from model import get_recipe, recommendation_model\n",
    "\n",
    "########### 흐름 ################\n",
    "# 로컬 영역 \n",
    "# 1. MongoDB 데이터를 가져와\n",
    "# 2. 전처리해서 df로 바꾸고, 레시피는 local DB에 저장\n",
    "# -> 웹에서 작동\n",
    "# 3.0 피클링 : 저 위에꺼 다하는 클래스 객채(model)\n",
    "# 3. 사용자 인풋 값 + 이미 있는 레시피 데이터 값으로 콘텐츠 기반 알고리즘 \n",
    "# 4. 반환 값 출력(레시피 10개)\n",
    "\n",
    "### 알고리즘 클레스로 구현하기\n",
    "\n",
    "# 데이터 불러오는 클레스 (get_recipe 객체 피클링하기)"
   ]
  },
  {
   "cell_type": "code",
   "execution_count": null,
   "metadata": {},
   "outputs": [],
   "source": [
    "# 데이터 불러오는 클레스 (get_recipe 객체 피클링하기)\n",
    "recipe = get_recipe()\n",
    "df = recipe.just_get()"
   ]
  },
  {
   "cell_type": "code",
   "execution_count": 25,
   "metadata": {},
   "outputs": [
    {
     "ename": "TypeError",
     "evalue": "recommendation_model.fit() takes 0 positional arguments but 1 was given",
     "output_type": "error",
     "traceback": [
      "\u001b[1;31m---------------------------------------------------------------------------\u001b[0m",
      "\u001b[1;31mTypeError\u001b[0m                                 Traceback (most recent call last)",
      "Cell \u001b[1;32mIn [25], line 4\u001b[0m\n\u001b[0;32m      1\u001b[0m my_ingredients \u001b[39m=\u001b[39m \u001b[39m'\u001b[39m\u001b[39m라면, 감자, 소금, 버터, 설탕, 고추장, 밥, 후추, 간장, 당근, 소면, 계란\u001b[39m\u001b[39m'\u001b[39m\n\u001b[0;32m      3\u001b[0m model \u001b[39m=\u001b[39m recommendation_model(df \u001b[39m=\u001b[39m df, my_ingredients_list \u001b[39m=\u001b[39m my_ingredients, cooking_time \u001b[39m=\u001b[39m \u001b[39m30\u001b[39m)\n\u001b[1;32m----> 4\u001b[0m model\u001b[39m.\u001b[39;49mfit()\n",
      "\u001b[1;31mTypeError\u001b[0m: recommendation_model.fit() takes 0 positional arguments but 1 was given"
     ]
    }
   ],
   "source": [
    "my_ingredients = '라면, 감자, 소금, 버터, 설탕, 고추장, 밥, 후추, 간장, 당근, 소면, 계란'\n",
    "\n",
    "model = recommendation_model(df = df, my_ingredients_list = my_ingredients, cooking_time = 30)\n",
    "model.fit()\n",
    "# model.find_sim_recipe()\n"
   ]
  }
 ],
 "metadata": {
  "kernelspec": {
   "display_name": "Python 3.10.6 ('project_3')",
   "language": "python",
   "name": "python3"
  },
  "language_info": {
   "codemirror_mode": {
    "name": "ipython",
    "version": 3
   },
   "file_extension": ".py",
   "mimetype": "text/x-python",
   "name": "python",
   "nbconvert_exporter": "python",
   "pygments_lexer": "ipython3",
   "version": "3.10.6"
  },
  "orig_nbformat": 4,
  "vscode": {
   "interpreter": {
    "hash": "702850fde90e9296b4b7006588395c27d46ad31923daf1e06f0496e5552f36cd"
   }
  }
 },
 "nbformat": 4,
 "nbformat_minor": 2
}
